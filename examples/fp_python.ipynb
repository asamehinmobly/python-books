{
 "cells": [
  {
   "cell_type": "markdown",
   "metadata": {},
   "source": [
    "# Functional Programming with Python\n",
    "\n",
    "## Problem -> Parse csv\n",
    "input\n",
    "```\n",
    "csv = \"\"\"firstName;lastName\n",
    "Ada;Lovelace\n",
    "Emmy;Noether\n",
    "Marie;Curie\n",
    "Tu;Youyou\n",
    "Ada;Yonath\n",
    "Vera;Rubin\n",
    "Sally;Ride\"\"\"\n",
    "```\n",
    "\n",
    "output\n",
    "```\n",
    "target = [{'firstName': 'Ada', 'lastName': 'Lovelace'},\n",
    "          {'firstName': 'Emmy', 'lastName': 'Noether'},\n",
    "          ...]\n",
    "```\n",
    "\n",
    "[source](https://www.youtube.com/watch?v=r2eZ7lhqzNE)"
   ]
  },
  {
   "cell_type": "code",
   "execution_count": 3,
   "metadata": {},
   "outputs": [],
   "source": [
    "csv = \"\"\"firstName;lastName\n",
    "Ada;Lovelace\n",
    "Emmy;Noether\n",
    "Marie;Curie\n",
    "Tu;Youyou\n",
    "Ada;Yonath\n",
    "Vera;Rubin\n",
    "Sally;Ride\"\"\""
   ]
  },
  {
   "cell_type": "markdown",
   "metadata": {},
   "source": [
    "### Imperative Python"
   ]
  },
  {
   "cell_type": "code",
   "execution_count": 4,
   "metadata": {},
   "outputs": [],
   "source": [
    "lines = csv.split('\\n')\n",
    "matrix = [line.split(';') for line in lines]\n",
    "header = matrix.pop(0)\n",
    "records = []\n",
    "for row in matrix:\n",
    "    record = {}\n",
    "    for index, key in enumerate(header):\n",
    "        record[key] = row[index]\n",
    "    records.append(record)"
   ]
  },
  {
   "cell_type": "code",
   "execution_count": 5,
   "metadata": {},
   "outputs": [
    {
     "data": {
      "text/plain": [
       "[{'firstName': 'Ada', 'lastName': 'Lovelace'},\n",
       " {'firstName': 'Emmy', 'lastName': 'Noether'},\n",
       " {'firstName': 'Marie', 'lastName': 'Curie'},\n",
       " {'firstName': 'Tu', 'lastName': 'Youyou'},\n",
       " {'firstName': 'Ada', 'lastName': 'Yonath'},\n",
       " {'firstName': 'Vera', 'lastName': 'Rubin'},\n",
       " {'firstName': 'Sally', 'lastName': 'Ride'}]"
      ]
     },
     "execution_count": 5,
     "metadata": {},
     "output_type": "execute_result"
    }
   ],
   "source": [
    "records"
   ]
  },
  {
   "cell_type": "markdown",
   "metadata": {},
   "source": [
    "### Functional Python"
   ]
  },
  {
   "cell_type": "code",
   "execution_count": 6,
   "metadata": {},
   "outputs": [],
   "source": [
    "from toolz.curried import compose, map\n",
    "from functools import partial\n",
    "from operator import methodcaller\n",
    "\n",
    "split = partial(methodcaller, 'split')\n",
    "split_lines = split('\\n')\n",
    "split_fields = split(';')\n",
    "dict_from_keys_vals = compose(dict, zip)\n",
    "csv_to_matrix = compose(map(split_fields), split_lines)\n",
    "\n",
    "matrix = csv_to_matrix(csv)\n",
    "keys = next(matrix)\n",
    "records = map(partial(dict_from_keys_vals, keys), matrix)"
   ]
  },
  {
   "cell_type": "code",
   "execution_count": 7,
   "metadata": {},
   "outputs": [
    {
     "data": {
      "text/plain": [
       "<map at 0x1edbaa68108>"
      ]
     },
     "execution_count": 7,
     "metadata": {},
     "output_type": "execute_result"
    }
   ],
   "source": [
    "records"
   ]
  },
  {
   "cell_type": "code",
   "execution_count": 8,
   "metadata": {},
   "outputs": [
    {
     "data": {
      "text/plain": [
       "[{'firstName': 'Ada', 'lastName': 'Lovelace'},\n",
       " {'firstName': 'Emmy', 'lastName': 'Noether'},\n",
       " {'firstName': 'Marie', 'lastName': 'Curie'},\n",
       " {'firstName': 'Tu', 'lastName': 'Youyou'},\n",
       " {'firstName': 'Ada', 'lastName': 'Yonath'},\n",
       " {'firstName': 'Vera', 'lastName': 'Rubin'},\n",
       " {'firstName': 'Sally', 'lastName': 'Ride'}]"
      ]
     },
     "execution_count": 8,
     "metadata": {},
     "output_type": "execute_result"
    }
   ],
   "source": [
    "list(records)"
   ]
  }
 ],
 "metadata": {
  "kernelspec": {
   "display_name": "Python 3",
   "language": "python",
   "name": "python3"
  },
  "language_info": {
   "codemirror_mode": {
    "name": "ipython",
    "version": 3
   },
   "file_extension": ".py",
   "mimetype": "text/x-python",
   "name": "python",
   "nbconvert_exporter": "python",
   "pygments_lexer": "ipython3",
   "version": "3.7.4"
  }
 },
 "nbformat": 4,
 "nbformat_minor": 4
}
