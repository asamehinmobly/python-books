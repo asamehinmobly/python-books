{
 "cells": [
  {
   "cell_type": "markdown",
   "metadata": {},
   "source": [
    "# Functional Programming with Python\n",
    "\n",
    "## Problem -> Parse csv\n",
    "input\n",
    "```\n",
    "csv = \"\"\"firstName;lastName\n",
    "Ada;Lovelace\n",
    "Emmy;Noether\n",
    "Marie;Curie\n",
    "Tu;Youyou\n",
    "Ada;Yonath\n",
    "Vera;Rubin\n",
    "Sally;Ride\"\"\"\n",
    "```\n",
    "\n",
    "output\n",
    "```\n",
    "target = [{'firstName': 'Ada', 'lastName': 'Lovelace'},\n",
    "          {'firstName': 'Emmy', 'lastName': 'Noether'},\n",
    "          ...]\n",
    "```\n",
    "\n",
    "[source](https://www.youtube.com/watch?v=r2eZ7lhqzNE)"
   ]
  },
  {
   "cell_type": "code",
   "execution_count": 1,
   "metadata": {},
   "outputs": [],
   "source": [
    "csv = \"\"\"firstName;lastName\n",
    "Ada;Lovelace\n",
    "Emmy;Noether\n",
    "Marie;Curie\n",
    "Tu;Youyou\n",
    "Ada;Yonath\n",
    "Vera;Rubin\n",
    "Sally;Ride\"\"\""
   ]
  },
  {
   "cell_type": "markdown",
   "metadata": {},
   "source": [
    "### Imperative Python"
   ]
  },
  {
   "cell_type": "code",
   "execution_count": 2,
   "metadata": {},
   "outputs": [],
   "source": [
    "lines = csv.split('\\n')\n",
    "matrix = [line.split(';') for line in lines]\n",
    "header = matrix.pop(0)\n",
    "records = []\n",
    "for row in matrix:\n",
    "    record = {}\n",
    "    for index, key in enumerate(header):\n",
    "        record[key] = row[index]\n",
    "    records.append(record)"
   ]
  },
  {
   "cell_type": "code",
   "execution_count": 3,
   "metadata": {},
   "outputs": [
    {
     "data": {
      "text/plain": [
       "[{'firstName': 'Ada', 'lastName': 'Lovelace'},\n",
       " {'firstName': 'Emmy', 'lastName': 'Noether'},\n",
       " {'firstName': 'Marie', 'lastName': 'Curie'},\n",
       " {'firstName': 'Tu', 'lastName': 'Youyou'},\n",
       " {'firstName': 'Ada', 'lastName': 'Yonath'},\n",
       " {'firstName': 'Vera', 'lastName': 'Rubin'},\n",
       " {'firstName': 'Sally', 'lastName': 'Ride'}]"
      ]
     },
     "execution_count": 3,
     "metadata": {},
     "output_type": "execute_result"
    }
   ],
   "source": [
    "records"
   ]
  },
  {
   "cell_type": "markdown",
   "metadata": {},
   "source": [
    "### Functional Python"
   ]
  },
  {
   "cell_type": "code",
   "execution_count": 4,
   "metadata": {},
   "outputs": [],
   "source": [
    "from toolz.curried import compose, map\n",
    "from functools import partial\n",
    "from operator import methodcaller\n",
    "\n",
    "split = partial(methodcaller, 'split')\n",
    "split_lines = split('\\n')\n",
    "split_fields = split(';')\n",
    "dict_from_keys_vals = compose(dict, zip)\n",
    "csv_to_matrix = compose(map(split_fields), split_lines)\n",
    "\n",
    "matrix = csv_to_matrix(csv)\n",
    "keys = next(matrix)\n",
    "records = map(partial(dict_from_keys_vals, keys), matrix)"
   ]
  },
  {
   "cell_type": "code",
   "execution_count": 5,
   "metadata": {},
   "outputs": [
    {
     "data": {
      "text/plain": [
       "<map at 0x11c12ab5f08>"
      ]
     },
     "execution_count": 5,
     "metadata": {},
     "output_type": "execute_result"
    }
   ],
   "source": [
    "records"
   ]
  },
  {
   "cell_type": "code",
   "execution_count": 6,
   "metadata": {},
   "outputs": [
    {
     "data": {
      "text/plain": [
       "[{'firstName': 'Ada', 'lastName': 'Lovelace'},\n",
       " {'firstName': 'Emmy', 'lastName': 'Noether'},\n",
       " {'firstName': 'Marie', 'lastName': 'Curie'},\n",
       " {'firstName': 'Tu', 'lastName': 'Youyou'},\n",
       " {'firstName': 'Ada', 'lastName': 'Yonath'},\n",
       " {'firstName': 'Vera', 'lastName': 'Rubin'},\n",
       " {'firstName': 'Sally', 'lastName': 'Ride'}]"
      ]
     },
     "execution_count": 6,
     "metadata": {},
     "output_type": "execute_result"
    }
   ],
   "source": [
    "list(records)"
   ]
  },
  {
   "cell_type": "code",
   "execution_count": 30,
   "metadata": {},
   "outputs": [
    {
     "data": {
      "text/plain": [
       "{'firstName': ['firstName', 'lastName'], 'lastName': ['Ada', 'Lovelace']}"
      ]
     },
     "execution_count": 30,
     "metadata": {},
     "output_type": "execute_result"
    }
   ],
   "source": [
    "from toolz.curried import pipe\n",
    "\n",
    "pipe(csv, csv_to_matrix, partial(dict_from_keys_vals, keys))"
   ]
  },
  {
   "cell_type": "code",
   "execution_count": 15,
   "metadata": {},
   "outputs": [
    {
     "data": {
      "text/plain": [
       "\u001b[1;31mSignature:\u001b[0m \u001b[0mpipe\u001b[0m\u001b[1;33m(\u001b[0m\u001b[0mdata\u001b[0m\u001b[1;33m,\u001b[0m \u001b[1;33m*\u001b[0m\u001b[0mfuncs\u001b[0m\u001b[1;33m)\u001b[0m\u001b[1;33m\u001b[0m\u001b[1;33m\u001b[0m\u001b[0m\n",
       "\u001b[1;31mDocstring:\u001b[0m\n",
       "Pipe a value through a sequence of functions\n",
       "\n",
       "I.e. ``pipe(data, f, g, h)`` is equivalent to ``h(g(f(data)))``\n",
       "\n",
       "We think of the value as progressing through a pipe of several\n",
       "transformations, much like pipes in UNIX\n",
       "\n",
       "``$ cat data | f | g | h``\n",
       "\n",
       ">>> double = lambda i: 2 * i\n",
       ">>> pipe(3, double, str)\n",
       "'6'\n",
       "\n",
       "See Also:\n",
       "    compose\n",
       "    compose_left\n",
       "    thread_first\n",
       "    thread_last\n",
       "\u001b[1;31mFile:\u001b[0m      c:\\users\\fraga\\anaconda3\\lib\\site-packages\\toolz\\functoolz.py\n",
       "\u001b[1;31mType:\u001b[0m      function\n"
      ]
     },
     "metadata": {},
     "output_type": "display_data"
    }
   ],
   "source": [
    "?pipe"
   ]
  },
  {
   "cell_type": "code",
   "execution_count": 12,
   "metadata": {},
   "outputs": [
    {
     "data": {
      "text/plain": [
       "\u001b[1;31mInit signature:\u001b[0m \u001b[0mpartial\u001b[0m\u001b[1;33m(\u001b[0m\u001b[0mself\u001b[0m\u001b[1;33m,\u001b[0m \u001b[1;33m/\u001b[0m\u001b[1;33m,\u001b[0m \u001b[1;33m*\u001b[0m\u001b[0margs\u001b[0m\u001b[1;33m,\u001b[0m \u001b[1;33m**\u001b[0m\u001b[0mkwargs\u001b[0m\u001b[1;33m)\u001b[0m\u001b[1;33m\u001b[0m\u001b[1;33m\u001b[0m\u001b[0m\n",
       "\u001b[1;31mDocstring:\u001b[0m     \n",
       "partial(func, *args, **keywords) - new function with partial application\n",
       "of the given arguments and keywords.\n",
       "\u001b[1;31mFile:\u001b[0m           c:\\users\\fraga\\anaconda3\\lib\\functools.py\n",
       "\u001b[1;31mType:\u001b[0m           type\n",
       "\u001b[1;31mSubclasses:\u001b[0m     \n"
      ]
     },
     "metadata": {},
     "output_type": "display_data"
    }
   ],
   "source": [
    "?partial"
   ]
  },
  {
   "cell_type": "code",
   "execution_count": 7,
   "metadata": {},
   "outputs": [
    {
     "data": {
      "text/plain": [
       "\u001b[1;31mSignature:\u001b[0m \u001b[0mcompose\u001b[0m\u001b[1;33m(\u001b[0m\u001b[1;33m*\u001b[0m\u001b[0mfuncs\u001b[0m\u001b[1;33m)\u001b[0m\u001b[1;33m\u001b[0m\u001b[1;33m\u001b[0m\u001b[0m\n",
       "\u001b[1;31mDocstring:\u001b[0m\n",
       "Compose functions to operate in series.\n",
       "\n",
       "Returns a function that applies other functions in sequence.\n",
       "\n",
       "Functions are applied from right to left so that\n",
       "``compose(f, g, h)(x, y)`` is the same as ``f(g(h(x, y)))``.\n",
       "\n",
       "If no arguments are provided, the identity function (f(x) = x) is returned.\n",
       "\n",
       ">>> inc = lambda i: i + 1\n",
       ">>> compose(str, inc)(3)\n",
       "'4'\n",
       "\n",
       "See Also:\n",
       "    compose_left\n",
       "    pipe\n",
       "\u001b[1;31mFile:\u001b[0m      c:\\users\\fraga\\anaconda3\\lib\\site-packages\\toolz\\functoolz.py\n",
       "\u001b[1;31mType:\u001b[0m      function\n"
      ]
     },
     "metadata": {},
     "output_type": "display_data"
    }
   ],
   "source": [
    "?compose"
   ]
  },
  {
   "cell_type": "code",
   "execution_count": 13,
   "metadata": {},
   "outputs": [
    {
     "data": {
      "text/plain": [
       "\u001b[1;31mInit signature:\u001b[0m \u001b[0mmethodcaller\u001b[0m\u001b[1;33m(\u001b[0m\u001b[0mself\u001b[0m\u001b[1;33m,\u001b[0m \u001b[1;33m/\u001b[0m\u001b[1;33m,\u001b[0m \u001b[1;33m*\u001b[0m\u001b[0margs\u001b[0m\u001b[1;33m,\u001b[0m \u001b[1;33m**\u001b[0m\u001b[0mkwargs\u001b[0m\u001b[1;33m)\u001b[0m\u001b[1;33m\u001b[0m\u001b[1;33m\u001b[0m\u001b[0m\n",
       "\u001b[1;31mDocstring:\u001b[0m     \n",
       "methodcaller(name, ...) --> methodcaller object\n",
       "\n",
       "Return a callable object that calls the given method on its operand.\n",
       "After f = methodcaller('name'), the call f(r) returns r.name().\n",
       "After g = methodcaller('name', 'date', foo=1), the call g(r) returns\n",
       "r.name('date', foo=1).\n",
       "\u001b[1;31mFile:\u001b[0m           c:\\users\\fraga\\anaconda3\\lib\\operator.py\n",
       "\u001b[1;31mType:\u001b[0m           type\n",
       "\u001b[1;31mSubclasses:\u001b[0m     \n"
      ]
     },
     "metadata": {},
     "output_type": "display_data"
    }
   ],
   "source": [
    "?methodcaller"
   ]
  }
 ],
 "metadata": {
  "kernelspec": {
   "display_name": "Python 3",
   "language": "python",
   "name": "python3"
  },
  "language_info": {
   "codemirror_mode": {
    "name": "ipython",
    "version": 3
   },
   "file_extension": ".py",
   "mimetype": "text/x-python",
   "name": "python",
   "nbconvert_exporter": "python",
   "pygments_lexer": "ipython3",
   "version": "3.7.4"
  }
 },
 "nbformat": 4,
 "nbformat_minor": 4
}
